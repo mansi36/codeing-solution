{
  "nbformat": 4,
  "nbformat_minor": 0,
  "metadata": {
    "colab": {
      "name": "codesoloution.ipynb",
      "provenance": []
    },
    "kernelspec": {
      "name": "python3",
      "display_name": "Python 3"
    },
    "language_info": {
      "name": "python"
    }
  },
  "cells": [
    {
      "cell_type": "code",
      "execution_count": 1,
      "metadata": {
        "colab": {
          "base_uri": "https://localhost:8080/"
        },
        "id": "jVE1W1oMdHOX",
        "outputId": "ebbcbb68-773c-4991-92f0-4161d7529529"
      },
      "outputs": [
        {
          "output_type": "stream",
          "name": "stdout",
          "text": [
            "[0, 1]\n"
          ]
        }
      ],
      "source": [
        "def solve(li,target):\n",
        "    for i in range(len(li)):\n",
        "        for j in range(i+1,len(li)):\n",
        "            if (li[i]+li[j])==target:\n",
        "                return [i,j]\n",
        "print(solve([3,3],6))"
      ]
    },
    {
      "cell_type": "code",
      "source": [
        " if __name__ == '__main__':\n",
        "    lis=[]\n",
        "    for _ in range(int(input())):\n",
        "        name = input()\n",
        "        score = float(input())\n",
        "        \n",
        "        lis.append([name,score])\n",
        "    \n",
        "    lis.sort(key=lambda lis:lis[1])\n",
        "    \n",
        "    second_lowest=[]\n",
        "    for i in range(len(lis)):\n",
        "        if lis[i][1]!=lis[0][1]:\n",
        "            second_lowest.append(lis[i][0])\n",
        "            for j in range(i+1,len(lis)):\n",
        "                if lis[j][1]==lis[i][1]:\n",
        "                    second_lowest.append(lis[j][0])\n",
        "                else:\n",
        "                    break\n",
        "            break        \n",
        "           \n",
        "                   \n",
        "            \n",
        "        else:\n",
        "            continue\n",
        "           \n",
        "\n",
        "    second_lowest.sort()\n",
        "    for i in second_lowest:\n",
        "        print(i)"
      ],
      "metadata": {
        "colab": {
          "base_uri": "https://localhost:8080/"
        },
        "id": "n3ixLbp3dIBl",
        "outputId": "a8a7c65c-f90f-4f8f-8b8c-51ef57b80ce3"
      },
      "execution_count": 3,
      "outputs": [
        {
          "output_type": "stream",
          "name": "stdout",
          "text": [
            "5\n",
            "harry\n",
            "37.21\n",
            "berry\n",
            "37.21\n",
            "tina\n",
            "37.2\n",
            "akriti\n",
            "41\n",
            "harsh\n",
            "39\n",
            "berry\n",
            "harry\n"
          ]
        }
      ]
    },
    {
      "cell_type": "code",
      "source": [
        ""
      ],
      "metadata": {
        "id": "11dXTXPfdqXy"
      },
      "execution_count": null,
      "outputs": []
    }
  ]
}